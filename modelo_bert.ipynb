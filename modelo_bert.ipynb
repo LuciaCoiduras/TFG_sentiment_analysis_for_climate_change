{
 "cells": [
  {
   "cell_type": "markdown",
   "metadata": {},
   "source": [
    "### Introducción\n",
    "\n",
    "Este cuaderno cubre el proceso de desarrollo de un modelo de NLP (BERT) para predecir el sentimiento de los tweets relacionados con el cambio climático. Cubrirá cuatro fases principales:\n",
    "\n",
    "- Modelado y entrenamiento: donde se construirá el modelo.\n",
    "- Optimización: donde se registrarán y compararán las métricas adquiridas para diferentes combinaciones de las fases anteriores."
   ]
  },
  {
   "cell_type": "markdown",
   "metadata": {},
   "source": [
    "### Import de las funciones y librerias pertinentes"
   ]
  },
  {
   "cell_type": "code",
   "execution_count": null,
   "metadata": {},
   "outputs": [],
   "source": [
    "from transformers import AutoTokenizer, AutoModelForSequenceClassification, pipeline\n",
    "import torch\n",
    "import pandas as pd"
   ]
  },
  {
   "cell_type": "markdown",
   "metadata": {},
   "source": [
    "### Carga de los datos"
   ]
  },
  {
   "cell_type": "code",
   "execution_count": null,
   "metadata": {},
   "outputs": [],
   "source": [
    "df = pd.read_csv('preprocessed_tweets_roberta.csv')[['RawContent', 'Sentiment']]\n",
    "\n",
    "# El modelo de roberta que se va a usar para clasificar los tweets es binario, por lo que se eliminan los tweets neutrales\n",
    "df = df[df['Sentiment'] != 1]"
   ]
  },
  {
   "cell_type": "code",
   "execution_count": null,
   "metadata": {},
   "outputs": [],
   "source": [
    "preprocessed_tweets = df['RawContent']"
   ]
  },
  {
   "cell_type": "markdown",
   "metadata": {},
   "source": [
    "### Entrenamiento del modelo"
   ]
  },
  {
   "cell_type": "code",
   "execution_count": null,
   "metadata": {},
   "outputs": [],
   "source": [
    "\n",
    "import numpy as np\n",
    "from sklearn.metrics import classification_report"
   ]
  },
  {
   "cell_type": "code",
   "execution_count": null,
   "metadata": {},
   "outputs": [],
   "source": [
    "# Construcción del modelo\n",
    "tokenizer = AutoTokenizer.from_pretrained(\"VerificadoProfesional/SaBERT-Spanish-Sentiment-Analysis\")\n",
    "model = AutoModelForSequenceClassification.from_pretrained(\"VerificadoProfesional/SaBERT-Spanish-Sentiment-Analysis\")\n",
    "classifier = pipeline('sentiment-analysis', tokenizer=tokenizer, model=model)\n",
    "\n",
    "# Predicción de los tweets\n",
    "predictions = classifier.predict(list(i[:500] for i in preprocessed_tweets))\n",
    "\n",
    "# De la salida del modelo se extrae la etiqueta predicha\n",
    "predicted_labels = [prediction['label'] for prediction in predictions]\n",
    "# Y se convierten las etiquetas originales al mismo formato que las predichas\n",
    "original_labels = ['Negative' if label == 0 else 'Positive' for label in df['Sentiment']]\n",
    "\n",
    "# Obtencion de las metricas de evaluacion\n",
    "print(classification_report(original_labels, predicted_labels))"
   ]
  }
 ],
 "metadata": {
  "kernelspec": {
   "display_name": "venv",
   "language": "python",
   "name": "python3"
  },
  "language_info": {
   "codemirror_mode": {
    "name": "ipython",
    "version": 3
   },
   "file_extension": ".py",
   "mimetype": "text/x-python",
   "name": "python",
   "nbconvert_exporter": "python",
   "pygments_lexer": "ipython3",
   "version": "3.11.0"
  }
 },
 "nbformat": 4,
 "nbformat_minor": 2
}
